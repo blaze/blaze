{
 "metadata": {
  "name": "UCR-DTW-example"
 },
 "nbformat": 3,
 "nbformat_minor": 0,
 "worksheets": [
  {
   "cells": [
    {
     "cell_type": "heading",
     "level": 1,
     "metadata": {},
     "source": [
      "Example for finding best patter similarities by using Distance Time Warping"
     ]
    },
    {
     "cell_type": "code",
     "collapsed": false,
     "input": [
      "import os.path\n",
      "import numpy as np\n",
      "import blaze\n",
      "from blaze.ts.ucr_dtw import ucr"
     ],
     "language": "python",
     "metadata": {},
     "outputs": [],
     "prompt_number": 5
    },
    {
     "cell_type": "heading",
     "level": 2,
     "metadata": {},
     "source": [
      "Some conversion code from text files into native Blaze format"
     ]
    },
    {
     "cell_type": "code",
     "collapsed": false,
     "input": [
      "# Convert txt file into Blaze native format (if it is not yet)\n",
      "def convert(filetxt, storage):\n",
      "    if not os.path.exists(storage):\n",
      "        blaze.Array(np.loadtxt(filetxt),\n",
      "                    params=blaze.params(storage=storage))"
     ],
     "language": "python",
     "metadata": {},
     "outputs": [],
     "prompt_number": 6
    },
    {
     "cell_type": "code",
     "collapsed": false,
     "input": [
      "# Make sure that data is converted into a persistent Blaze array\n",
      "convert(\"Data.txt\", \"Data\")\n",
      "convert(\"Query.txt\", \"Query\")\n",
      "convert(\"Query2.txt\", \"Query2\")"
     ],
     "language": "python",
     "metadata": {},
     "outputs": [],
     "prompt_number": 7
    },
    {
     "cell_type": "heading",
     "level": 2,
     "metadata": {},
     "source": [
      "Open Blaze array on-disk"
     ]
    },
    {
     "cell_type": "code",
     "collapsed": false,
     "input": [
      "# Open Blaze arrays on-disk (will not be loaded in memory)\n",
      "data = blaze.open(\"Data\")\n",
      "query = blaze.open(\"Query\")\n",
      "query2 = blaze.open(\"Query2\")"
     ],
     "language": "python",
     "metadata": {},
     "outputs": [],
     "prompt_number": 8
    },
    {
     "cell_type": "heading",
     "level": 2,
     "metadata": {},
     "source": [
      "Find the best similarities using DTW or ED (Euclidena Distance) algorithms"
     ]
    },
    {
     "cell_type": "code",
     "collapsed": false,
     "input": [
      "# Play with different methods & parameters here...\n",
      "#%time loc, dist = ucr.ed(data, query, 128)\n",
      "%time loc, dist = ucr.dtw(data, query, 0.1, 128, verbose=False)\n",
      "#%time loc, dist = ucr.dtw(data, query2, 0.1, 128)"
     ],
     "language": "python",
     "metadata": {},
     "outputs": [
      {
       "output_type": "stream",
       "stream": "stdout",
       "text": [
        "CPU times: user 0.56 s, sys: 0.01 s, total: 0.57 s\n",
        "Wall time: 0.57 s\n"
       ]
      }
     ],
     "prompt_number": 9
    },
    {
     "cell_type": "markdown",
     "metadata": {},
     "source": [
      "Notice that times here can be up to 4x than the original code based on text files.\n",
      "Blaze format is fast to read!"
     ]
    },
    {
     "cell_type": "code",
     "collapsed": false,
     "input": [
      "print \"Location : \", loc\n",
      "print \"Distance : \", dist\n",
      "print \"Data Scanned : \", data.size"
     ],
     "language": "python",
     "metadata": {},
     "outputs": [
      {
       "output_type": "stream",
       "stream": "stdout",
       "text": [
        "Location :  756562\n",
        "Distance :  3.20559486181\n",
        "Data Scanned :  1000000\n"
       ]
      }
     ],
     "prompt_number": 10
    },
    {
     "cell_type": "heading",
     "level": 2,
     "metadata": {},
     "source": [
      "Check that patterns are really similar"
     ]
    },
    {
     "cell_type": "code",
     "collapsed": false,
     "input": [
      "from pylab import plot\n",
      "plot(data[loc:loc+128])"
     ],
     "language": "python",
     "metadata": {},
     "outputs": [
      {
       "output_type": "pyout",
       "prompt_number": 12,
       "text": [
        "[<matplotlib.lines.Line2D at 0x1083b7650>]"
       ]
      }
     ],
     "prompt_number": 12
    },
    {
     "cell_type": "code",
     "collapsed": false,
     "input": [
      "plot(query[:])"
     ],
     "language": "python",
     "metadata": {},
     "outputs": []
    },
    {
     "cell_type": "code",
     "collapsed": false,
     "input": [],
     "language": "python",
     "metadata": {},
     "outputs": []
    }
   ],
   "metadata": {}
  }
 ]
}