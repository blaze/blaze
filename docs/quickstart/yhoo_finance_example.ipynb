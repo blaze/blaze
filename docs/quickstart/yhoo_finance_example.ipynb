{
 "cells": [
  {
   "cell_type": "code",
   "execution_count": 2,
   "metadata": {
    "collapsed": false
   },
   "outputs": [],
   "source": [
    "import pandas.io.data as web\n",
    "import datetime\n",
    "from blaze import data, compute, symbol, resource, transform, by"
   ]
  },
  {
   "cell_type": "code",
   "execution_count": 3,
   "metadata": {
    "collapsed": true
   },
   "outputs": [],
   "source": [
    "# using uri/structure found in Pandas cause it works\n",
    "start = datetime.datetime(2010, 1, 1)\n",
    "end = datetime.datetime(2013, 1, 27)\n",
    "\n",
    "sym = 'F'\n",
    "interval = 'd'  # get data at daily interval\n",
    "\n",
    "# In pandas we'd do:\n",
    "f = web.DataReader(sym, 'yahoo', start, end)\n",
    "\n",
    "# QUESTION: cannot get all data with blaze - we get NA values somewhere after\n",
    "# 5/1 so blaze fails: end = datetime.datetime(2011, 5, 2)\n",
    "# However, if we go to the URL and download the table.csv, it looks and loads\n",
    "# fine via the data interface:\n",
    "# http://ichart.finance.yahoo.com/table.csv?s=F&a=0&b=1&c=2010&d=0&e=27&f=2013&g=d&ignore=.csv\n",
    "end = datetime.datetime(2011, 5, 1)\n",
    "\n",
    "_HISTORICAL_YAHOO_URL = 'http://ichart.finance.yahoo.com/table.csv?'\n",
    "uri = (_HISTORICAL_YAHOO_URL + 's=%s' % sym +\n",
    "       '&a=%s' % (start.month - 1) +\n",
    "       '&b=%s' % start.day +\n",
    "       '&c=%s' % start.year +\n",
    "       '&d=%s' % (end.month - 1) +\n",
    "       '&e=%s' % end.day +\n",
    "       '&f=%s' % end.year +\n",
    "       '&g=%s' % interval +\n",
    "       '&ignore=.csv')\n"
   ]
  },
  {
   "cell_type": "code",
   "execution_count": 4,
   "metadata": {
    "collapsed": false
   },
   "outputs": [
    {
     "data": {
      "text/plain": [
       "dshape(\"\"\"var * {\n",
       "  Date: ?datetime,\n",
       "  Open: float64,\n",
       "  High: float64,\n",
       "  Low: float64,\n",
       "  Close: float64,\n",
       "  Volume: int64,\n",
       "  'Adj Close': float64\n",
       "  }\"\"\")"
      ]
     },
     "execution_count": 4,
     "metadata": {},
     "output_type": "execute_result"
    }
   ],
   "source": [
    "# A blaze symbol represents a collection of data. In this instance the\n",
    "# blaze expression bound to the resource.\n",
    "# This allows for some interactive behavior and data exploration\n",
    "d = data(uri)\n",
    "\n",
    "# QUESTION: ok - we can work with this subset though maybe need a different\n",
    "# example, because pandas makes this easier\n",
    "\n",
    "# The shape and datatypes of the columns are captured in dshape\n",
    "# dshape(\"\"\"var * {\n",
    "#   Date: ?datetime,\n",
    "#   Open: float64,\n",
    "#   High: float64,\n",
    "#   Low: float64,\n",
    "#   Close: float64,\n",
    "#   Volume: int64,\n",
    "#   'Adj Close': float64\n",
    "#   }\"\"\")\n",
    "#\n",
    "# var: data contains a variable number of rows so we don't know table length\n",
    "#      The columns and dtypes of the columns are as follows:\n",
    "# Date: datetime object but this is optional so it could be missing for some\n",
    "#    records. This is indicated by the '?' preceding datetime\n",
    "# Open, High, Low, Close, 'Adj Close': columns contains values of type float64\n",
    "# Volume: column contains int64 values\n",
    "d.dshape"
   ]
  },
  {
   "cell_type": "code",
   "execution_count": 5,
   "metadata": {
    "collapsed": false
   },
   "outputs": [
    {
     "data": {
      "text/html": [
       "<div>\n",
       "<table border=\"1\" class=\"dataframe\">\n",
       "  <thead>\n",
       "    <tr style=\"text-align: right;\">\n",
       "      <th></th>\n",
       "      <th>Date</th>\n",
       "      <th>Open</th>\n",
       "      <th>High</th>\n",
       "      <th>Low</th>\n",
       "      <th>Close</th>\n",
       "      <th>Volume</th>\n",
       "      <th>Adj Close</th>\n",
       "    </tr>\n",
       "  </thead>\n",
       "  <tbody>\n",
       "    <tr>\n",
       "      <th>0</th>\n",
       "      <td>2011-04-29</td>\n",
       "      <td>15.490000</td>\n",
       "      <td>15.68</td>\n",
       "      <td>15.40</td>\n",
       "      <td>15.47</td>\n",
       "      <td>40203200</td>\n",
       "      <td>13.176518</td>\n",
       "    </tr>\n",
       "    <tr>\n",
       "      <th>1</th>\n",
       "      <td>2011-04-28</td>\n",
       "      <td>15.470000</td>\n",
       "      <td>15.70</td>\n",
       "      <td>15.42</td>\n",
       "      <td>15.50</td>\n",
       "      <td>48145500</td>\n",
       "      <td>13.202070</td>\n",
       "    </tr>\n",
       "    <tr>\n",
       "      <th>2</th>\n",
       "      <td>2011-04-27</td>\n",
       "      <td>15.850000</td>\n",
       "      <td>15.87</td>\n",
       "      <td>15.42</td>\n",
       "      <td>15.58</td>\n",
       "      <td>84380600</td>\n",
       "      <td>13.270209</td>\n",
       "    </tr>\n",
       "    <tr>\n",
       "      <th>3</th>\n",
       "      <td>2011-04-26</td>\n",
       "      <td>16.040001</td>\n",
       "      <td>16.18</td>\n",
       "      <td>15.66</td>\n",
       "      <td>15.66</td>\n",
       "      <td>166900000</td>\n",
       "      <td>13.338349</td>\n",
       "    </tr>\n",
       "    <tr>\n",
       "      <th>4</th>\n",
       "      <td>2011-04-25</td>\n",
       "      <td>15.510000</td>\n",
       "      <td>15.59</td>\n",
       "      <td>15.35</td>\n",
       "      <td>15.54</td>\n",
       "      <td>54775800</td>\n",
       "      <td>13.236140</td>\n",
       "    </tr>\n",
       "    <tr>\n",
       "      <th>5</th>\n",
       "      <td>2011-04-21</td>\n",
       "      <td>15.230000</td>\n",
       "      <td>15.45</td>\n",
       "      <td>15.10</td>\n",
       "      <td>15.43</td>\n",
       "      <td>53181900</td>\n",
       "      <td>13.142448</td>\n",
       "    </tr>\n",
       "    <tr>\n",
       "      <th>6</th>\n",
       "      <td>2011-04-20</td>\n",
       "      <td>14.950000</td>\n",
       "      <td>15.20</td>\n",
       "      <td>14.84</td>\n",
       "      <td>15.09</td>\n",
       "      <td>70978900</td>\n",
       "      <td>12.852854</td>\n",
       "    </tr>\n",
       "    <tr>\n",
       "      <th>7</th>\n",
       "      <td>2011-04-19</td>\n",
       "      <td>14.650000</td>\n",
       "      <td>14.79</td>\n",
       "      <td>14.54</td>\n",
       "      <td>14.66</td>\n",
       "      <td>33575500</td>\n",
       "      <td>12.486603</td>\n",
       "    </tr>\n",
       "    <tr>\n",
       "      <th>8</th>\n",
       "      <td>2011-04-18</td>\n",
       "      <td>14.510000</td>\n",
       "      <td>14.74</td>\n",
       "      <td>14.49</td>\n",
       "      <td>14.62</td>\n",
       "      <td>49822500</td>\n",
       "      <td>12.452533</td>\n",
       "    </tr>\n",
       "    <tr>\n",
       "      <th>9</th>\n",
       "      <td>2011-04-15</td>\n",
       "      <td>14.860000</td>\n",
       "      <td>14.91</td>\n",
       "      <td>14.61</td>\n",
       "      <td>14.71</td>\n",
       "      <td>47434700</td>\n",
       "      <td>12.529190</td>\n",
       "    </tr>\n",
       "    <tr>\n",
       "      <th>10</th>\n",
       "      <td>2011-04-14</td>\n",
       "      <td>14.740000</td>\n",
       "      <td>14.85</td>\n",
       "      <td>14.61</td>\n",
       "      <td>14.81</td>\n",
       "      <td>62357700</td>\n",
       "      <td>12.614365</td>\n",
       "    </tr>\n",
       "  </tbody>\n",
       "</table>\n",
       "</div>"
      ],
      "text/plain": [
       "         Date       Open   High    Low  Close     Volume  Adj Close\n",
       "0  2011-04-29  15.490000  15.68  15.40  15.47   40203200  13.176518\n",
       "1  2011-04-28  15.470000  15.70  15.42  15.50   48145500  13.202070\n",
       "2  2011-04-27  15.850000  15.87  15.42  15.58   84380600  13.270209\n",
       "3  2011-04-26  16.040001  16.18  15.66  15.66  166900000  13.338349\n",
       "4  2011-04-25  15.510000  15.59  15.35  15.54   54775800  13.236140\n",
       "5  2011-04-21  15.230000  15.45  15.10  15.43   53181900  13.142448\n",
       "6  2011-04-20  14.950000  15.20  14.84  15.09   70978900  12.852854\n",
       "7  2011-04-19  14.650000  14.79  14.54  14.66   33575500  12.486603\n",
       "8  2011-04-18  14.510000  14.74  14.49  14.62   49822500  12.452533\n",
       "9  2011-04-15  14.860000  14.91  14.61  14.71   47434700  12.529190\n",
       "10 2011-04-14  14.740000  14.85  14.61  14.81   62357700  12.614365"
      ]
     },
     "execution_count": 5,
     "metadata": {},
     "output_type": "execute_result"
    }
   ],
   "source": [
    "# Let's peek inside the data. This is similar to d.head() except in interactive\n",
    "# mode d.head() shows first 10 lines and peek() shows first 11 lines.\n",
    "# You can limit the data\n",
    "# QUESTION: need docstring for d.peek()\n",
    "# QUESTION: the 11 vs 10 lines seems inconsistent\n",
    "d.peek()\n"
   ]
  },
  {
   "cell_type": "code",
   "execution_count": 6,
   "metadata": {
    "collapsed": false
   },
   "outputs": [
    {
     "data": {
      "text/html": [
       "<table border=\"1\" class=\"dataframe\">\n",
       "  <thead>\n",
       "    <tr style=\"text-align: right;\">\n",
       "      <th></th>\n",
       "      <th>Date</th>\n",
       "      <th>Open</th>\n",
       "      <th>High</th>\n",
       "      <th>Low</th>\n",
       "      <th>Close</th>\n",
       "      <th>Volume</th>\n",
       "      <th>Adj Close</th>\n",
       "    </tr>\n",
       "  </thead>\n",
       "  <tbody>\n",
       "    <tr>\n",
       "      <th>0</th>\n",
       "      <td>2011-04-29</td>\n",
       "      <td>15.490000</td>\n",
       "      <td>15.68</td>\n",
       "      <td>15.40</td>\n",
       "      <td>15.47</td>\n",
       "      <td>40203200</td>\n",
       "      <td>13.176518</td>\n",
       "    </tr>\n",
       "    <tr>\n",
       "      <th>1</th>\n",
       "      <td>2011-04-28</td>\n",
       "      <td>15.470000</td>\n",
       "      <td>15.70</td>\n",
       "      <td>15.42</td>\n",
       "      <td>15.50</td>\n",
       "      <td>48145500</td>\n",
       "      <td>13.202070</td>\n",
       "    </tr>\n",
       "    <tr>\n",
       "      <th>2</th>\n",
       "      <td>2011-04-27</td>\n",
       "      <td>15.850000</td>\n",
       "      <td>15.87</td>\n",
       "      <td>15.42</td>\n",
       "      <td>15.58</td>\n",
       "      <td>84380600</td>\n",
       "      <td>13.270209</td>\n",
       "    </tr>\n",
       "    <tr>\n",
       "      <th>3</th>\n",
       "      <td>2011-04-26</td>\n",
       "      <td>16.040001</td>\n",
       "      <td>16.18</td>\n",
       "      <td>15.66</td>\n",
       "      <td>15.66</td>\n",
       "      <td>166900000</td>\n",
       "      <td>13.338349</td>\n",
       "    </tr>\n",
       "  </tbody>\n",
       "</table>"
      ],
      "text/plain": [
       "        Date       Open   High    Low  Close     Volume  Adj Close\n",
       "0 2011-04-29  15.490000  15.68  15.40  15.47   40203200  13.176518\n",
       "1 2011-04-28  15.470000  15.70  15.42  15.50   48145500  13.202070\n",
       "2 2011-04-27  15.850000  15.87  15.42  15.58   84380600  13.270209\n",
       "3 2011-04-26  16.040001  16.18  15.66  15.66  166900000  13.338349"
      ]
     },
     "execution_count": 6,
     "metadata": {},
     "output_type": "execute_result"
    }
   ],
   "source": [
    "# Viewing a single column creates a Field object, uses single brackets\n",
    "d['Date']# can see 10 or fewer lines at the beginning or the end using head(), tail()\n",
    "d.head(4)"
   ]
  },
  {
   "cell_type": "code",
   "execution_count": 7,
   "metadata": {
    "collapsed": false
   },
   "outputs": [
    {
     "data": {
      "text/html": [
       "<table border=\"1\" class=\"dataframe\">\n",
       "  <thead>\n",
       "    <tr style=\"text-align: right;\">\n",
       "      <th></th>\n",
       "      <th>Date</th>\n",
       "      <th>Open</th>\n",
       "      <th>High</th>\n",
       "      <th>Low</th>\n",
       "      <th>Close</th>\n",
       "      <th>Volume</th>\n",
       "      <th>Adj Close</th>\n",
       "    </tr>\n",
       "  </thead>\n",
       "  <tbody>\n",
       "    <tr>\n",
       "      <th>286</th>\n",
       "      <td>2010-03-12</td>\n",
       "      <td>13.02</td>\n",
       "      <td>13.37</td>\n",
       "      <td>12.98</td>\n",
       "      <td>13.34</td>\n",
       "      <td>104771000</td>\n",
       "      <td>11.362298</td>\n",
       "    </tr>\n",
       "    <tr>\n",
       "      <th>287</th>\n",
       "      <td>2010-03-11</td>\n",
       "      <td>12.79</td>\n",
       "      <td>12.97</td>\n",
       "      <td>12.75</td>\n",
       "      <td>12.91</td>\n",
       "      <td>59274700</td>\n",
       "      <td>10.996046</td>\n",
       "    </tr>\n",
       "    <tr>\n",
       "      <th>288</th>\n",
       "      <td>2010-03-10</td>\n",
       "      <td>12.88</td>\n",
       "      <td>12.95</td>\n",
       "      <td>12.80</td>\n",
       "      <td>12.82</td>\n",
       "      <td>56850600</td>\n",
       "      <td>10.919389</td>\n",
       "    </tr>\n",
       "    <tr>\n",
       "      <th>289</th>\n",
       "      <td>2010-03-09</td>\n",
       "      <td>12.83</td>\n",
       "      <td>13.03</td>\n",
       "      <td>12.73</td>\n",
       "      <td>12.80</td>\n",
       "      <td>83934300</td>\n",
       "      <td>10.902355</td>\n",
       "    </tr>\n",
       "    <tr>\n",
       "      <th>290</th>\n",
       "      <td>2010-03-08</td>\n",
       "      <td>12.94</td>\n",
       "      <td>12.96</td>\n",
       "      <td>12.79</td>\n",
       "      <td>12.93</td>\n",
       "      <td>78903200</td>\n",
       "      <td>11.013082</td>\n",
       "    </tr>\n",
       "    <tr>\n",
       "      <th>291</th>\n",
       "      <td>2010-03-05</td>\n",
       "      <td>12.92</td>\n",
       "      <td>13.04</td>\n",
       "      <td>12.83</td>\n",
       "      <td>13.00</td>\n",
       "      <td>106920600</td>\n",
       "      <td>11.072704</td>\n",
       "    </tr>\n",
       "    <tr>\n",
       "      <th>292</th>\n",
       "      <td>2010-03-04</td>\n",
       "      <td>12.78</td>\n",
       "      <td>12.80</td>\n",
       "      <td>12.52</td>\n",
       "      <td>12.79</td>\n",
       "      <td>89836800</td>\n",
       "      <td>10.893837</td>\n",
       "    </tr>\n",
       "    <tr>\n",
       "      <th>293</th>\n",
       "      <td>2010-03-03</td>\n",
       "      <td>12.46</td>\n",
       "      <td>12.83</td>\n",
       "      <td>12.35</td>\n",
       "      <td>12.69</td>\n",
       "      <td>157004600</td>\n",
       "      <td>10.808662</td>\n",
       "    </tr>\n",
       "  </tbody>\n",
       "</table>"
      ],
      "text/plain": [
       "          Date   Open   High    Low  Close     Volume  Adj Close\n",
       "286 2010-03-12  13.02  13.37  12.98  13.34  104771000  11.362298\n",
       "287 2010-03-11  12.79  12.97  12.75  12.91   59274700  10.996046\n",
       "288 2010-03-10  12.88  12.95  12.80  12.82   56850600  10.919389\n",
       "289 2010-03-09  12.83  13.03  12.73  12.80   83934300  10.902355\n",
       "290 2010-03-08  12.94  12.96  12.79  12.93   78903200  11.013082\n",
       "291 2010-03-05  12.92  13.04  12.83  13.00  106920600  11.072704\n",
       "292 2010-03-04  12.78  12.80  12.52  12.79   89836800  10.893837\n",
       "293 2010-03-03  12.46  12.83  12.35  12.69  157004600  10.808662"
      ]
     },
     "execution_count": 7,
     "metadata": {},
     "output_type": "execute_result"
    }
   ],
   "source": [
    "d.tail(8)"
   ]
  },
  {
   "cell_type": "code",
   "execution_count": 8,
   "metadata": {
    "collapsed": false
   },
   "outputs": [
    {
     "data": {
      "text/html": [
       "294"
      ],
      "text/plain": [
       "294"
      ]
     },
     "execution_count": 8,
     "metadata": {},
     "output_type": "execute_result"
    }
   ],
   "source": [
    "# get total number of rows in result set - 294\n",
    "d.nrows"
   ]
  },
  {
   "cell_type": "code",
   "execution_count": 12,
   "metadata": {
    "collapsed": false
   },
   "outputs": [
    {
     "data": {
      "text/html": [
       "<table border=\"1\" class=\"dataframe\">\n",
       "  <thead>\n",
       "    <tr style=\"text-align: right;\">\n",
       "      <th></th>\n",
       "      <th>Date</th>\n",
       "      <th>Open</th>\n",
       "      <th>Close</th>\n",
       "    </tr>\n",
       "  </thead>\n",
       "  <tbody>\n",
       "    <tr>\n",
       "      <th>0</th>\n",
       "      <td>2011-04-29</td>\n",
       "      <td>15.490000</td>\n",
       "      <td>15.47</td>\n",
       "    </tr>\n",
       "    <tr>\n",
       "      <th>1</th>\n",
       "      <td>2011-04-28</td>\n",
       "      <td>15.470000</td>\n",
       "      <td>15.50</td>\n",
       "    </tr>\n",
       "    <tr>\n",
       "      <th>2</th>\n",
       "      <td>2011-04-27</td>\n",
       "      <td>15.850000</td>\n",
       "      <td>15.58</td>\n",
       "    </tr>\n",
       "    <tr>\n",
       "      <th>3</th>\n",
       "      <td>2011-04-26</td>\n",
       "      <td>16.040001</td>\n",
       "      <td>15.66</td>\n",
       "    </tr>\n",
       "    <tr>\n",
       "      <th>4</th>\n",
       "      <td>2011-04-25</td>\n",
       "      <td>15.510000</td>\n",
       "      <td>15.54</td>\n",
       "    </tr>\n",
       "    <tr>\n",
       "      <th>5</th>\n",
       "      <td>2011-04-21</td>\n",
       "      <td>15.230000</td>\n",
       "      <td>15.43</td>\n",
       "    </tr>\n",
       "    <tr>\n",
       "      <th>6</th>\n",
       "      <td>2011-04-20</td>\n",
       "      <td>14.950000</td>\n",
       "      <td>15.09</td>\n",
       "    </tr>\n",
       "    <tr>\n",
       "      <th>7</th>\n",
       "      <td>2011-04-19</td>\n",
       "      <td>14.650000</td>\n",
       "      <td>14.66</td>\n",
       "    </tr>\n",
       "    <tr>\n",
       "      <th>8</th>\n",
       "      <td>2011-04-18</td>\n",
       "      <td>14.510000</td>\n",
       "      <td>14.62</td>\n",
       "    </tr>\n",
       "    <tr>\n",
       "      <th>9</th>\n",
       "      <td>2011-04-15</td>\n",
       "      <td>14.860000</td>\n",
       "      <td>14.71</td>\n",
       "    </tr>\n",
       "    <tr>\n",
       "      <th>10</th>\n",
       "      <td>2011-04-14</td>\n",
       "      <td>14.740000</td>\n",
       "      <td>14.81</td>\n",
       "    </tr>\n",
       "  </tbody>\n",
       "</table>"
      ],
      "text/plain": [
       "         Date       Open  Close\n",
       "0  2011-04-29  15.490000  15.47\n",
       "1  2011-04-28  15.470000  15.50\n",
       "2  2011-04-27  15.850000  15.58\n",
       "3  2011-04-26  16.040001  15.66\n",
       "4  2011-04-25  15.510000  15.54\n",
       "5  2011-04-21  15.230000  15.43\n",
       "6  2011-04-20  14.950000  15.09\n",
       "7  2011-04-19  14.650000  14.66\n",
       "8  2011-04-18  14.510000  14.62\n",
       "9  2011-04-15  14.860000  14.71\n",
       "..."
      ]
     },
     "execution_count": 12,
     "metadata": {},
     "output_type": "execute_result"
    }
   ],
   "source": [
    "# Viewing a single column creates a Field object, uses single brackets\n",
    "d['Date']\n",
    "d[['Date', 'Open', 'Close']]"
   ]
  },
  {
   "cell_type": "code",
   "execution_count": 13,
   "metadata": {
    "collapsed": false
   },
   "outputs": [
    {
     "data": {
      "text/html": [
       "<table border=\"1\" class=\"dataframe\">\n",
       "  <thead>\n",
       "    <tr style=\"text-align: right;\">\n",
       "      <th></th>\n",
       "      <th>Open</th>\n",
       "    </tr>\n",
       "  </thead>\n",
       "  <tbody>\n",
       "    <tr>\n",
       "      <th>0</th>\n",
       "      <td>154.90000</td>\n",
       "    </tr>\n",
       "    <tr>\n",
       "      <th>1</th>\n",
       "      <td>154.70000</td>\n",
       "    </tr>\n",
       "    <tr>\n",
       "      <th>2</th>\n",
       "      <td>158.50000</td>\n",
       "    </tr>\n",
       "    <tr>\n",
       "      <th>3</th>\n",
       "      <td>160.40001</td>\n",
       "    </tr>\n",
       "    <tr>\n",
       "      <th>4</th>\n",
       "      <td>155.10000</td>\n",
       "    </tr>\n",
       "    <tr>\n",
       "      <th>5</th>\n",
       "      <td>152.30000</td>\n",
       "    </tr>\n",
       "    <tr>\n",
       "      <th>6</th>\n",
       "      <td>149.50000</td>\n",
       "    </tr>\n",
       "    <tr>\n",
       "      <th>7</th>\n",
       "      <td>146.50000</td>\n",
       "    </tr>\n",
       "    <tr>\n",
       "      <th>8</th>\n",
       "      <td>145.10000</td>\n",
       "    </tr>\n",
       "    <tr>\n",
       "      <th>9</th>\n",
       "      <td>148.60000</td>\n",
       "    </tr>\n",
       "    <tr>\n",
       "      <th>10</th>\n",
       "      <td>147.40000</td>\n",
       "    </tr>\n",
       "  </tbody>\n",
       "</table>"
      ],
      "text/plain": [
       "         Open\n",
       "0   154.90000\n",
       "1   154.70000\n",
       "2   158.50000\n",
       "3   160.40001\n",
       "4   155.10000\n",
       "5   152.30000\n",
       "6   149.50000\n",
       "7   146.50000\n",
       "8   145.10000\n",
       "9   148.60000\n",
       "..."
      ]
     },
     "execution_count": 13,
     "metadata": {},
     "output_type": "execute_result"
    }
   ],
   "source": [
    "# Arithmetic operations can be applied to Field objects, so following is valid:\n",
    "d['Open'] * 10"
   ]
  },
  {
   "cell_type": "code",
   "execution_count": 14,
   "metadata": {
    "collapsed": false
   },
   "outputs": [
    {
     "data": {
      "text/html": [
       "19"
      ],
      "text/plain": [
       "19"
      ]
     },
     "execution_count": 14,
     "metadata": {},
     "output_type": "execute_result"
    }
   ],
   "source": [
    "# However, Projection objects do not support arithmetic operations, so\n",
    "# following will raise an AttributeError\n",
    "# d[['Open']] * 10\n",
    "# d[['Open', 'Close']] * 10\n",
    "\n",
    "# Say we wish to subselect based on a criteria and we want to know how big\n",
    "# the result set is - this reults in 19 records\n",
    "d[d['Date'] > datetime.datetime(2011, 4, 1)].nrows"
   ]
  },
  {
   "cell_type": "code",
   "execution_count": 15,
   "metadata": {
    "collapsed": false
   },
   "outputs": [
    {
     "data": {
      "text/html": [
       "<table border=\"1\" class=\"dataframe\">\n",
       "  <thead>\n",
       "    <tr style=\"text-align: right;\">\n",
       "      <th></th>\n",
       "      <th>Date</th>\n",
       "      <th>High</th>\n",
       "      <th>Low</th>\n",
       "    </tr>\n",
       "  </thead>\n",
       "  <tbody>\n",
       "    <tr>\n",
       "      <th>211</th>\n",
       "      <td>2010-06-29</td>\n",
       "      <td>10.14</td>\n",
       "      <td>9.75</td>\n",
       "    </tr>\n",
       "  </tbody>\n",
       "</table>"
      ],
      "text/plain": [
       "          Date   High   Low\n",
       "211 2010-06-29  10.14  9.75"
      ]
     },
     "execution_count": 15,
     "metadata": {},
     "output_type": "execute_result"
    }
   ],
   "source": [
    "# The highest value occured on 2010-06-29\n",
    "d.sort('High')[['Date', 'High', 'Low']].head(1)"
   ]
  },
  {
   "cell_type": "code",
   "execution_count": 16,
   "metadata": {
    "collapsed": false
   },
   "outputs": [
    {
     "data": {
      "text/html": [
       "<table border=\"1\" class=\"dataframe\">\n",
       "  <thead>\n",
       "    <tr style=\"text-align: right;\">\n",
       "      <th></th>\n",
       "      <th>Date</th>\n",
       "      <th>High</th>\n",
       "      <th>Low</th>\n",
       "    </tr>\n",
       "  </thead>\n",
       "  <tbody>\n",
       "    <tr>\n",
       "      <th>73</th>\n",
       "      <td>2011-01-13</td>\n",
       "      <td>18.969999</td>\n",
       "      <td>18.549999</td>\n",
       "    </tr>\n",
       "  </tbody>\n",
       "</table>"
      ],
      "text/plain": [
       "         Date       High        Low\n",
       "73 2011-01-13  18.969999  18.549999"
      ]
     },
     "execution_count": 16,
     "metadata": {},
     "output_type": "execute_result"
    }
   ],
   "source": [
    "# The highest value occured on 2010-06-29 and\n",
    "# the 'High' was at its lowest on 2011-01-13\n",
    "d.sort('High')[['Date', 'High', 'Low']].head(1)\n",
    "d.sort('High', ascending=False)[['Date', 'High', 'Low']].head(1)"
   ]
  },
  {
   "cell_type": "code",
   "execution_count": 17,
   "metadata": {
    "collapsed": false
   },
   "outputs": [
    {
     "data": {
      "text/html": [
       "<table border=\"1\" class=\"dataframe\">\n",
       "  <thead>\n",
       "    <tr style=\"text-align: right;\">\n",
       "      <th></th>\n",
       "      <th>Open</th>\n",
       "    </tr>\n",
       "  </thead>\n",
       "  <tbody>\n",
       "    <tr>\n",
       "      <th>73</th>\n",
       "      <td>16.021350</td>\n",
       "    </tr>\n",
       "    <tr>\n",
       "      <th>70</th>\n",
       "      <td>15.936175</td>\n",
       "    </tr>\n",
       "    <tr>\n",
       "      <th>71</th>\n",
       "      <td>15.893588</td>\n",
       "    </tr>\n",
       "    <tr>\n",
       "      <th>72</th>\n",
       "      <td>15.851002</td>\n",
       "    </tr>\n",
       "    <tr>\n",
       "      <th>64</th>\n",
       "      <td>15.774344</td>\n",
       "    </tr>\n",
       "    <tr>\n",
       "      <th>75</th>\n",
       "      <td>15.740274</td>\n",
       "    </tr>\n",
       "    <tr>\n",
       "      <th>76</th>\n",
       "      <td>15.697687</td>\n",
       "    </tr>\n",
       "    <tr>\n",
       "      <th>77</th>\n",
       "      <td>15.689170</td>\n",
       "    </tr>\n",
       "    <tr>\n",
       "      <th>74</th>\n",
       "      <td>15.638065</td>\n",
       "    </tr>\n",
       "    <tr>\n",
       "      <th>78</th>\n",
       "      <td>15.356990</td>\n",
       "    </tr>\n",
       "    <tr>\n",
       "      <th>67</th>\n",
       "      <td>15.356989</td>\n",
       "    </tr>\n",
       "  </tbody>\n",
       "</table>"
      ],
      "text/plain": [
       "         Open\n",
       "73  16.021350\n",
       "70  15.936175\n",
       "71  15.893588\n",
       "72  15.851002\n",
       "64  15.774344\n",
       "75  15.740274\n",
       "76  15.697687\n",
       "77  15.689170\n",
       "74  15.638065\n",
       "78  15.356990\n",
       "..."
      ]
     },
     "execution_count": 17,
     "metadata": {},
     "output_type": "execute_result"
    }
   ],
   "source": [
    "# In interactive mode, arithmetic operations can be applied to single column\n",
    "# but not to multiple columns, so following cannot be done in interactive mode.\n",
    "# The Projection object does not support arithmetic operations\n",
    "#   (d[['Open', 'Close']] * (d['Adj Close']/d['Close'])).sort()\n",
    "#\n",
    "# however, a single column\n",
    "(d['Open'] * (d['Adj Close']/d['Close'])).sort()"
   ]
  },
  {
   "cell_type": "code",
   "execution_count": 18,
   "metadata": {
    "collapsed": false
   },
   "outputs": [
    {
     "data": {
      "text/html": [
       "<table border=\"1\" class=\"dataframe\">\n",
       "  <thead>\n",
       "    <tr style=\"text-align: right;\">\n",
       "      <th></th>\n",
       "      <th>Open</th>\n",
       "    </tr>\n",
       "  </thead>\n",
       "  <tbody>\n",
       "    <tr>\n",
       "      <th>73</th>\n",
       "      <td>16.021350</td>\n",
       "    </tr>\n",
       "    <tr>\n",
       "      <th>70</th>\n",
       "      <td>15.936175</td>\n",
       "    </tr>\n",
       "    <tr>\n",
       "      <th>71</th>\n",
       "      <td>15.893588</td>\n",
       "    </tr>\n",
       "    <tr>\n",
       "      <th>72</th>\n",
       "      <td>15.851002</td>\n",
       "    </tr>\n",
       "    <tr>\n",
       "      <th>64</th>\n",
       "      <td>15.774344</td>\n",
       "    </tr>\n",
       "    <tr>\n",
       "      <th>75</th>\n",
       "      <td>15.740274</td>\n",
       "    </tr>\n",
       "    <tr>\n",
       "      <th>76</th>\n",
       "      <td>15.697687</td>\n",
       "    </tr>\n",
       "    <tr>\n",
       "      <th>77</th>\n",
       "      <td>15.689170</td>\n",
       "    </tr>\n",
       "    <tr>\n",
       "      <th>74</th>\n",
       "      <td>15.638065</td>\n",
       "    </tr>\n",
       "    <tr>\n",
       "      <th>78</th>\n",
       "      <td>15.356990</td>\n",
       "    </tr>\n",
       "    <tr>\n",
       "      <th>67</th>\n",
       "      <td>15.356989</td>\n",
       "    </tr>\n",
       "  </tbody>\n",
       "</table>"
      ],
      "text/plain": [
       "         Open\n",
       "73  16.021350\n",
       "70  15.936175\n",
       "71  15.893588\n",
       "72  15.851002\n",
       "64  15.774344\n",
       "75  15.740274\n",
       "76  15.697687\n",
       "77  15.689170\n",
       "74  15.638065\n",
       "78  15.356990\n",
       "..."
      ]
     },
     "execution_count": 18,
     "metadata": {},
     "output_type": "execute_result"
    }
   ],
   "source": [
    "(d['Open'] * (d['Adj Close']/d['Close'])).sort(ascending=False)"
   ]
  },
  {
   "cell_type": "code",
   "execution_count": 19,
   "metadata": {
    "collapsed": true
   },
   "outputs": [],
   "source": [
    "# Use transform to add another a new column to the dataset\n",
    "d = transform(d, ratio=d['Adj Close']/d['Close'], year=d['Date'].year)"
   ]
  },
  {
   "cell_type": "code",
   "execution_count": 20,
   "metadata": {
    "collapsed": false
   },
   "outputs": [
    {
     "data": {
      "text/html": [
       "<div>\n",
       "<table border=\"1\" class=\"dataframe\">\n",
       "  <thead>\n",
       "    <tr style=\"text-align: right;\">\n",
       "      <th></th>\n",
       "      <th>Open</th>\n",
       "      <th>High</th>\n",
       "      <th>Low</th>\n",
       "      <th>Close</th>\n",
       "      <th>Adj Close</th>\n",
       "    </tr>\n",
       "  </thead>\n",
       "  <tbody>\n",
       "    <tr>\n",
       "      <th>0</th>\n",
       "      <td>13.193553</td>\n",
       "      <td>13.355385</td>\n",
       "      <td>13.116896</td>\n",
       "      <td>13.176518</td>\n",
       "      <td>11.223053</td>\n",
       "    </tr>\n",
       "    <tr>\n",
       "      <th>1</th>\n",
       "      <td>13.176518</td>\n",
       "      <td>13.372419</td>\n",
       "      <td>13.133930</td>\n",
       "      <td>13.202070</td>\n",
       "      <td>11.244816</td>\n",
       "    </tr>\n",
       "    <tr>\n",
       "      <th>2</th>\n",
       "      <td>13.500181</td>\n",
       "      <td>13.517215</td>\n",
       "      <td>13.133930</td>\n",
       "      <td>13.270209</td>\n",
       "      <td>11.302853</td>\n",
       "    </tr>\n",
       "    <tr>\n",
       "      <th>3</th>\n",
       "      <td>13.662013</td>\n",
       "      <td>13.781257</td>\n",
       "      <td>13.338349</td>\n",
       "      <td>13.338349</td>\n",
       "      <td>11.360891</td>\n",
       "    </tr>\n",
       "    <tr>\n",
       "      <th>4</th>\n",
       "      <td>13.210588</td>\n",
       "      <td>13.278727</td>\n",
       "      <td>13.074308</td>\n",
       "      <td>13.236140</td>\n",
       "      <td>11.273835</td>\n",
       "    </tr>\n",
       "  </tbody>\n",
       "</table>\n",
       "</div>"
      ],
      "text/plain": [
       "        Open       High        Low      Close  Adj Close\n",
       "0  13.193553  13.355385  13.116896  13.176518  11.223053\n",
       "1  13.176518  13.372419  13.133930  13.202070  11.244816\n",
       "2  13.500181  13.517215  13.133930  13.270209  11.302853\n",
       "3  13.662013  13.781257  13.338349  13.338349  11.360891\n",
       "4  13.210588  13.278727  13.074308  13.236140  11.273835"
      ]
     },
     "execution_count": 20,
     "metadata": {},
     "output_type": "execute_result"
    }
   ],
   "source": [
    "# In order to see the raw data normalized by 'Adj Close' for multiple columns:\n",
    "# ['Open', 'High', 'Low', 'Close', 'Adj Close'], we need to depart from\n",
    "# interactive mode. Let's create a dataframe and operate on that now\n",
    "df = compute(d)\n",
    "df[['Open', 'High', 'Low', 'Close',\n",
    "    'Adj Close']].multiply(df['Adj Close']/df['Close'], axis=\"index\").head()"
   ]
  },
  {
   "cell_type": "code",
   "execution_count": 21,
   "metadata": {
    "collapsed": false
   },
   "outputs": [
    {
     "data": {
      "text/html": [
       "<div>\n",
       "<table border=\"1\" class=\"dataframe\">\n",
       "  <thead>\n",
       "    <tr style=\"text-align: right;\">\n",
       "      <th></th>\n",
       "      <th>Open</th>\n",
       "      <th>High</th>\n",
       "      <th>Low</th>\n",
       "      <th>Close</th>\n",
       "      <th>Adj Close</th>\n",
       "    </tr>\n",
       "  </thead>\n",
       "  <tbody>\n",
       "    <tr>\n",
       "      <th>0</th>\n",
       "      <td>13.193553</td>\n",
       "      <td>13.355385</td>\n",
       "      <td>13.116896</td>\n",
       "      <td>13.176518</td>\n",
       "      <td>11.223053</td>\n",
       "    </tr>\n",
       "    <tr>\n",
       "      <th>1</th>\n",
       "      <td>13.176518</td>\n",
       "      <td>13.372419</td>\n",
       "      <td>13.133930</td>\n",
       "      <td>13.202070</td>\n",
       "      <td>11.244816</td>\n",
       "    </tr>\n",
       "    <tr>\n",
       "      <th>2</th>\n",
       "      <td>13.500181</td>\n",
       "      <td>13.517215</td>\n",
       "      <td>13.133930</td>\n",
       "      <td>13.270209</td>\n",
       "      <td>11.302853</td>\n",
       "    </tr>\n",
       "    <tr>\n",
       "      <th>3</th>\n",
       "      <td>13.662013</td>\n",
       "      <td>13.781257</td>\n",
       "      <td>13.338349</td>\n",
       "      <td>13.338349</td>\n",
       "      <td>11.360891</td>\n",
       "    </tr>\n",
       "    <tr>\n",
       "      <th>4</th>\n",
       "      <td>13.210588</td>\n",
       "      <td>13.278727</td>\n",
       "      <td>13.074308</td>\n",
       "      <td>13.236140</td>\n",
       "      <td>11.273835</td>\n",
       "    </tr>\n",
       "  </tbody>\n",
       "</table>\n",
       "</div>"
      ],
      "text/plain": [
       "        Open       High        Low      Close  Adj Close\n",
       "0  13.193553  13.355385  13.116896  13.176518  11.223053\n",
       "1  13.176518  13.372419  13.133930  13.202070  11.244816\n",
       "2  13.500181  13.517215  13.133930  13.270209  11.302853\n",
       "3  13.662013  13.781257  13.338349  13.338349  11.360891\n",
       "4  13.210588  13.278727  13.074308  13.236140  11.273835"
      ]
     },
     "execution_count": 21,
     "metadata": {},
     "output_type": "execute_result"
    }
   ],
   "source": [
    "# or equivalently\n",
    "df[['Open', 'High', 'Low', 'Close',\n",
    "    'Adj Close']].multiply(df['ratio'], axis=\"index\").head()"
   ]
  },
  {
   "cell_type": "code",
   "execution_count": 22,
   "metadata": {
    "collapsed": true
   },
   "outputs": [],
   "source": [
    "# group by year\n",
    "yearly_high_minmax = by(d[['year']], High_min=d.High.min(),\n",
    "                        High_max=d.High.max())"
   ]
  },
  {
   "cell_type": "code",
   "execution_count": 23,
   "metadata": {
    "collapsed": true
   },
   "outputs": [],
   "source": [
    "# QUESTION: seems like we cannot do above operation in blaze expression\n",
    "#\n",
    "# a dataframe in order to apply arithmetic operation to subset of data\n",
    "# Define a blaze symbol. This symbol is not bound to a data\n",
    "# resource. It has no interactive behavior and an expression must be computed\n",
    "# in order to visualize results. However, ir provides many more operations. It\n",
    "# also abstracts the computation in a blaze expression and the backend data\n",
    "# source into a blaze resource. We can then compute the same blaze expression\n",
    "# against various backend data resources; so long as they all have the same\n",
    "# datashape.\n",
    "s = symbol('s', d.dshape)\n",
    "rsx = resource(uri, dshape=d.dshape)\n",
    "\n",
    "# Cannot do following in blaze\n",
    "# expr = (s[['Open', 'High', 'Low', 'Close', 'Adj Close']] * (s['Adj Close']/s['Close'])).sort()\n",
    "# result = compute(expr, rsx)"
   ]
  },
  {
   "cell_type": "code",
   "execution_count": null,
   "metadata": {
    "collapsed": true
   },
   "outputs": [],
   "source": []
  }
 ],
 "metadata": {
  "kernelspec": {
   "display_name": "Python 3",
   "language": "python",
   "name": "python3"
  },
  "language_info": {
   "codemirror_mode": {
    "name": "ipython",
    "version": 3
   },
   "file_extension": ".py",
   "mimetype": "text/x-python",
   "name": "python",
   "nbconvert_exporter": "python",
   "pygments_lexer": "ipython3",
   "version": "3.4.4"
  }
 },
 "nbformat": 4,
 "nbformat_minor": 0
}
