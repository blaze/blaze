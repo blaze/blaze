{
 "cells": [
  {
   "cell_type": "markdown",
   "metadata": {},
   "source": [
    "# Example using blaze-server\n",
    "\n",
    "In this example, use the `blaze-server` to serve iris data from different data source. The data source is a CSV file, a table in an sqlite DB and from a table in a postgresql DB. Use the blaze-server to share the datasets.\n",
    "\n",
    " * [Add iris data to postgresql and add source to blaze-server](#Add-iris-data-to-postgresql)\n",
    " * [Define config file and serve data](#Command-Line-Tool:-blaze-server)\n",
    "   * [YAML config](#YAML-Specification)\n",
    "   * [Start server](#Start-server)\n",
    " * [Explore data](#Explore-data)\n",
    "    * [Available datasets](#Datasets-served-by-blaze-server)\n",
    "    * [`peek()` into data]()"
   ]
  },
  {
   "cell_type": "markdown",
   "metadata": {},
   "source": [
    "## Add `iris` data to postgresql\n",
    "\n",
    "__Q: Can we not get the `d.iriscsv` into a DataFrame, then add it to postgresql?__\n",
    "<br/>Example:  `df = bz.compute(d.iriscsv, output_type=pd.DataFrame)` - this didn't work.\n",
    "\n",
    "\n",
    "Postgresql can be conda installed from blaze channel.\n",
    "```sh\n",
    "    > conda install -c blaze postgresql=9.3.5\n",
    "```\n",
    "\n",
    "1. Ensure you have a postgres DB running.\n",
    "2. Following steps assume postgresql is running locally and you can log into the DB without requiring a username.\n",
    "3. Create a DB named `tutorial` - we will add the data to a table called `iris` \n",
    "```sh\n",
    "    > createdb tutorial\n",
    "```\n",
    "4. Run the cells below to add iris data to DB in a table called iris"
   ]
  },
  {
   "cell_type": "code",
   "execution_count": 1,
   "metadata": {
    "collapsed": true
   },
   "outputs": [],
   "source": [
    "import blaze as bz\n",
    "import pandas as pd"
   ]
  },
  {
   "cell_type": "code",
   "execution_count": 2,
   "metadata": {
    "collapsed": false
   },
   "outputs": [],
   "source": [
    "iris_df = bz.compute(bz.data(bz.utils.example('iris.csv')), output_type=pd.DataFrame)\n",
    "t = bz.odo(iris_df, 'postgresql://localhost/tutorial::iris')"
   ]
  },
  {
   "cell_type": "markdown",
   "metadata": {},
   "source": [
    "## Command Line Tool: blaze-server \n",
    "\n",
    "Blaze provides uniform access to a variety of common data formats.  Blaze\n",
    "Server builds off of this uniform interface to host data remotely through a\n",
    "JSON web API.\n",
    "\n",
    "Blaze ships with a command line tool called ``blaze-server`` to serve up data\n",
    "sources specified in a YAML file.\n",
    "\n",
    "__NOTE:__\n",
    "```\n",
    "   To use the YAML specification feature of Blaze server please install\n",
    "   the `pyyaml` library. This can be done easily with ``conda``:\n",
    "\n",
    "       conda install pyyaml\n",
    "```\n",
    "\n",
    "### YAML Specification\n",
    "\n",
    "The structure of the specification file is as follows:\n",
    "\n",
    "  ```yaml\n",
    "     name1:\n",
    "       source: path or uri\n",
    "       dshape: optional datashape\n",
    "     name2:\n",
    "       source: path or uri\n",
    "       dshape: optional datashape\n",
    "     ...\n",
    "     nameN:\n",
    "       source: path or uri\n",
    "       dshape: optional datashape\n",
    "   ```\n",
    "\n",
    "Use examples provided with blaze package to define specification file. Get the full path to each of the resouces and write to `conf.yaml`:\n",
    "\n",
    "  ```python\n",
    "    \n",
    "    from blaze.utils import example\n",
    "    lines = ['iriscsv: ',\n",
    "             '  source: ' +  example('iris.csv'),\n",
    "             'irisdb: ',\n",
    "             '  source: ' + 'sqlite:///' + example('iris.db') + '::iris',\n",
    "             'accounts: ',\n",
    "             '  source: ' + example('accounts.json.gz'),\n",
    "             '  dshape: ' + '\"var * {name: string, amount: float64}\"',\n",
    "             'iris_psql: ',\n",
    "             '  source: ' + 'postgresql://localhost/tutorial::iris']\n",
    "\n",
    "    with open('conf.yaml', 'w') as f:\n",
    "        f.write(\"\\n\".join(lines))\n",
    "  ```\n",
    "\n",
    "### Start server\n",
    "\n",
    "In a command line terminal, start the blaze-server:\n",
    "\n",
    "  ```sh\n",
    "    blaze-server conf.yaml\n",
    "  ```"
   ]
  },
  {
   "cell_type": "markdown",
   "metadata": {},
   "source": [
    "### Explore data"
   ]
  },
  {
   "cell_type": "code",
   "execution_count": 3,
   "metadata": {
    "collapsed": true
   },
   "outputs": [],
   "source": [
    "d = bz.data('blaze://localhost:6363')"
   ]
  },
  {
   "cell_type": "markdown",
   "metadata": {},
   "source": [
    "#### Datasets served by blaze-server ####\n",
    "Looking at the fields and dshape attribute, we see there are 3 datasets being served and the types contained within each.\n",
    " * accounts\n",
    " * iriscsv\n",
    " * irisdb"
   ]
  },
  {
   "cell_type": "code",
   "execution_count": 4,
   "metadata": {
    "collapsed": false
   },
   "outputs": [
    {
     "name": "stdout",
     "output_type": "stream",
     "text": [
      "Datasets: ['accounts', 'iris_psql', 'iriscsv', 'irisdb']\n",
      "\n",
      "\n",
      "dshape: \n",
      "{\n",
      "  accounts: 5 * {amount: int64, name: string},\n",
      "  iris_psql: var * {\n",
      "    sepal_length: float64,\n",
      "    sepal_width: float64,\n",
      "    petal_length: float64,\n",
      "    petal_width: float64,\n",
      "    species: ?string\n",
      "    },\n",
      "  iriscsv: var * {\n",
      "    sepal_length: float64,\n",
      "    sepal_width: float64,\n",
      "    petal_length: float64,\n",
      "    petal_width: float64,\n",
      "    species: ?string\n",
      "    },\n",
      "  irisdb: var * {\n",
      "    sepal_length: ?float64,\n",
      "    sepal_width: ?float64,\n",
      "    petal_length: ?float64,\n",
      "    petal_width: ?float64,\n",
      "    species: ?string\n",
      "    }\n",
      "  }\n"
     ]
    }
   ],
   "source": [
    "print('Datasets:', d.fields)\n",
    "\n",
    "print('\\n')\n",
    "\n",
    "print('dshape: ')\n",
    "print(d.dshape)"
   ]
  },
  {
   "cell_type": "markdown",
   "metadata": {},
   "source": [
    "#### Peek into each dataset ####\n",
    " * each dataset can be accessed as an attribute or as a dict key\n",
    " * use ``peek()`` to look at the data which returns the tabular data as a pandas dataframe\n",
    " * use ``sample(n=).peek()`` to peek at a randomly subsampled bit of data. `n` referes to number of rows.\n",
    " * note the `irisdb` is a DB so it may contain multiple tables. In this case, it contains a single table called `iris`. <br/>This is accessed in the same way: either as an attribute or as a dict key."
   ]
  },
  {
   "cell_type": "code",
   "execution_count": 5,
   "metadata": {
    "collapsed": false,
    "scrolled": true
   },
   "outputs": [
    {
     "name": "stdout",
     "output_type": "stream",
     "text": [
      "peek() returns a pandas dataframe:\n",
      "<class 'pandas.core.frame.DataFrame'>\n",
      "\n",
      "\n",
      "accounts dataset:\n",
      "   amount     name\n",
      "0     100    Alice\n",
      "1    -200      Bob\n",
      "2     300  Charlie\n",
      "3     400   Dennis\n",
      "4    -500    Edith\n",
      "\n",
      "\n",
      "iriscsv dataset:\n",
      "   sepal_length  sepal_width  petal_length  petal_width          species\n",
      "0           5.7          4.4           1.5          0.4      Iris-setosa\n",
      "1           6.8          3.2           5.9          2.3   Iris-virginica\n",
      "2           5.9          3.2           4.8          1.8  Iris-versicolor\n",
      "3           5.8          2.7           5.1          1.9   Iris-virginica\n",
      "\n",
      "\n",
      "irisdb dataset access as dict keys:\n",
      "   sepal_length  sepal_width  petal_length  petal_width          species\n",
      "0           6.3          3.3           6.0          2.5   Iris-virginica\n",
      "1           6.9          3.1           4.9          1.5  Iris-versicolor\n",
      "2           4.8          3.4           1.9          0.2      Iris-setosa\n",
      "3           6.8          3.2           5.9          2.3   Iris-virginica\n",
      "\n",
      "\n",
      "iris_psql dataset access as attributes:\n",
      "   sepal_length  sepal_width  petal_length  petal_width         species\n",
      "0           6.9          3.1           5.4          2.1  Iris-virginica\n",
      "1           4.6          3.2           1.4          0.2     Iris-setosa\n",
      "2           7.2          3.0           5.8          1.6  Iris-virginica\n",
      "3           5.8          2.8           5.1          2.4  Iris-virginica\n"
     ]
    }
   ],
   "source": [
    "print('peek() returns a pandas dataframe:')\n",
    "print(type(d.accounts.peek()))\n",
    "\n",
    "print('\\n')\n",
    "\n",
    "print('accounts dataset:')\n",
    "print(d.accounts.peek())\n",
    "\n",
    "print('\\n')\n",
    "\n",
    "print('iriscsv dataset:')\n",
    "print(d['iriscsv'].sample(n=4).peek())\n",
    "\n",
    "print('\\n')\n",
    "\n",
    "print('irisdb dataset access as dict keys:')\n",
    "print(d['irisdb'].sample(n=4).peek())\n",
    "\n",
    "print('\\n')\n",
    "\n",
    "print('iris_psql dataset access as attributes:')\n",
    "print(d.iris_psql.sample(n=4).peek())"
   ]
  },
  {
   "cell_type": "code",
   "execution_count": 6,
   "metadata": {
    "collapsed": false
   },
   "outputs": [
    {
     "data": {
      "text/html": [
       "<div>\n",
       "<table border=\"1\" class=\"dataframe\">\n",
       "  <thead>\n",
       "    <tr style=\"text-align: right;\">\n",
       "      <th></th>\n",
       "      <th>sepal_length</th>\n",
       "      <th>sepal_width</th>\n",
       "      <th>petal_length</th>\n",
       "      <th>petal_width</th>\n",
       "      <th>species</th>\n",
       "    </tr>\n",
       "  </thead>\n",
       "  <tbody>\n",
       "    <tr>\n",
       "      <th>0</th>\n",
       "      <td>6.7</td>\n",
       "      <td>3.1</td>\n",
       "      <td>4.7</td>\n",
       "      <td>1.5</td>\n",
       "      <td>Iris-versicolor</td>\n",
       "    </tr>\n",
       "    <tr>\n",
       "      <th>1</th>\n",
       "      <td>6.7</td>\n",
       "      <td>2.5</td>\n",
       "      <td>5.8</td>\n",
       "      <td>1.8</td>\n",
       "      <td>Iris-virginica</td>\n",
       "    </tr>\n",
       "    <tr>\n",
       "      <th>2</th>\n",
       "      <td>7.2</td>\n",
       "      <td>3.6</td>\n",
       "      <td>6.1</td>\n",
       "      <td>2.5</td>\n",
       "      <td>Iris-virginica</td>\n",
       "    </tr>\n",
       "    <tr>\n",
       "      <th>3</th>\n",
       "      <td>5.4</td>\n",
       "      <td>3.4</td>\n",
       "      <td>1.7</td>\n",
       "      <td>0.2</td>\n",
       "      <td>Iris-setosa</td>\n",
       "    </tr>\n",
       "  </tbody>\n",
       "</table>\n",
       "</div>"
      ],
      "text/plain": [
       "   sepal_length  sepal_width  petal_length  petal_width          species\n",
       "0           6.7          3.1           4.7          1.5  Iris-versicolor\n",
       "1           6.7          2.5           5.8          1.8   Iris-virginica\n",
       "2           7.2          3.6           6.1          2.5   Iris-virginica\n",
       "3           5.4          3.4           1.7          0.2      Iris-setosa"
      ]
     },
     "execution_count": 6,
     "metadata": {},
     "output_type": "execute_result"
    }
   ],
   "source": [
    "# Issue here: output_type doesn't work with data() interface when using compute()\n",
    "# bz.compute(d.iris_psql.sample(n=10), output_type=pd.DataFrame)\n",
    "bz.odo(d.iris_psql.sample(n=4), pd.DataFrame)"
   ]
  },
  {
   "cell_type": "code",
   "execution_count": 7,
   "metadata": {
    "collapsed": false
   },
   "outputs": [
    {
     "data": {
      "text/html": [
       "<div>\n",
       "<table border=\"1\" class=\"dataframe\">\n",
       "  <thead>\n",
       "    <tr style=\"text-align: right;\">\n",
       "      <th></th>\n",
       "      <th>sepal_length</th>\n",
       "      <th>sepal_width</th>\n",
       "      <th>petal_length</th>\n",
       "      <th>petal_width</th>\n",
       "      <th>species</th>\n",
       "    </tr>\n",
       "  </thead>\n",
       "  <tbody>\n",
       "    <tr>\n",
       "      <th>0</th>\n",
       "      <td>4.8</td>\n",
       "      <td>3.4</td>\n",
       "      <td>1.9</td>\n",
       "      <td>0.2</td>\n",
       "      <td>Iris-setosa</td>\n",
       "    </tr>\n",
       "    <tr>\n",
       "      <th>1</th>\n",
       "      <td>5.7</td>\n",
       "      <td>4.4</td>\n",
       "      <td>1.5</td>\n",
       "      <td>0.4</td>\n",
       "      <td>Iris-setosa</td>\n",
       "    </tr>\n",
       "    <tr>\n",
       "      <th>2</th>\n",
       "      <td>4.6</td>\n",
       "      <td>3.6</td>\n",
       "      <td>1.0</td>\n",
       "      <td>0.2</td>\n",
       "      <td>Iris-setosa</td>\n",
       "    </tr>\n",
       "    <tr>\n",
       "      <th>3</th>\n",
       "      <td>5.4</td>\n",
       "      <td>3.4</td>\n",
       "      <td>1.7</td>\n",
       "      <td>0.2</td>\n",
       "      <td>Iris-setosa</td>\n",
       "    </tr>\n",
       "  </tbody>\n",
       "</table>\n",
       "</div>"
      ],
      "text/plain": [
       "   sepal_length  sepal_width  petal_length  petal_width      species\n",
       "0           4.8          3.4           1.9          0.2  Iris-setosa\n",
       "1           5.7          4.4           1.5          0.4  Iris-setosa\n",
       "2           4.6          3.6           1.0          0.2  Iris-setosa\n",
       "3           5.4          3.4           1.7          0.2  Iris-setosa"
      ]
     },
     "execution_count": 7,
     "metadata": {},
     "output_type": "execute_result"
    }
   ],
   "source": [
    "d.irisdb[d.irisdb['species'] == 'Iris-setosa'].sample(n=4).peek()"
   ]
  },
  {
   "cell_type": "code",
   "execution_count": 8,
   "metadata": {
    "collapsed": false
   },
   "outputs": [
    {
     "name": "stdout",
     "output_type": "stream",
     "text": [
      "   sepal_length  sepal_width  petal_length  petal_width          species\n",
      "0           5.3          3.7           1.5          0.2      Iris-setosa\n",
      "1           5.4          3.4           1.7          0.2      Iris-setosa\n",
      "2           4.9          3.0           1.4          0.2      Iris-setosa\n",
      "3           5.4          3.9           1.3          0.4      Iris-setosa\n",
      "0           6.0          2.9           4.5          1.5  Iris-versicolor\n",
      "1           5.7          3.0           4.2          1.2  Iris-versicolor\n",
      "2           5.6          2.5           3.9          1.1  Iris-versicolor\n",
      "3           6.5          2.8           4.6          1.5  Iris-versicolor\n"
     ]
    }
   ],
   "source": [
    "# s = bz.symbol('s', bz.discover(d.iris_psql))\n",
    "#bz.concat(d.irisdb['species'], d.irisdb['sepal_width'], axis=0)\n",
    "\n",
    "df1 = bz.odo(d.irisdb[d.irisdb['species'] == 'Iris-setosa'].sample(n=4), pd.DataFrame)\n",
    "df2 = bz.odo(d.iris_psql[d.iris_psql['species'] == 'Iris-versicolor'].sample(n=4), pd.DataFrame)\n",
    "print(pd.concat((df1, df2)))\n",
    "\n",
    "# Q: blaze concat is not working - not sure how to illustrate working with heterogenous data\n",
    "# bz.concat(d.irisdb[d.irisdb['species'] == 'Iris-setosa'],\n",
    "#           d.irisdb[d.irisdb['species'] == 'Iris-versicolor'])"
   ]
  },
  {
   "cell_type": "code",
   "execution_count": 9,
   "metadata": {
    "collapsed": false
   },
   "outputs": [
    {
     "data": {
      "text/html": [
       "<div>\n",
       "<table border=\"1\" class=\"dataframe\">\n",
       "  <thead>\n",
       "    <tr style=\"text-align: right;\">\n",
       "      <th></th>\n",
       "      <th>sepal_length</th>\n",
       "      <th>sepal_width</th>\n",
       "      <th>petal_length</th>\n",
       "      <th>petal_width</th>\n",
       "      <th>species</th>\n",
       "    </tr>\n",
       "  </thead>\n",
       "  <tbody>\n",
       "    <tr>\n",
       "      <th>0</th>\n",
       "      <td>5.0</td>\n",
       "      <td>3.0</td>\n",
       "      <td>1.6</td>\n",
       "      <td>0.2</td>\n",
       "      <td>Iris-setosa</td>\n",
       "    </tr>\n",
       "    <tr>\n",
       "      <th>1</th>\n",
       "      <td>4.8</td>\n",
       "      <td>3.0</td>\n",
       "      <td>1.4</td>\n",
       "      <td>0.3</td>\n",
       "      <td>Iris-setosa</td>\n",
       "    </tr>\n",
       "    <tr>\n",
       "      <th>2</th>\n",
       "      <td>5.5</td>\n",
       "      <td>3.5</td>\n",
       "      <td>1.3</td>\n",
       "      <td>0.2</td>\n",
       "      <td>Iris-setosa</td>\n",
       "    </tr>\n",
       "    <tr>\n",
       "      <th>3</th>\n",
       "      <td>5.4</td>\n",
       "      <td>3.9</td>\n",
       "      <td>1.7</td>\n",
       "      <td>0.4</td>\n",
       "      <td>Iris-setosa</td>\n",
       "    </tr>\n",
       "    <tr>\n",
       "      <th>0</th>\n",
       "      <td>5.6</td>\n",
       "      <td>2.9</td>\n",
       "      <td>3.6</td>\n",
       "      <td>1.3</td>\n",
       "      <td>Iris-versicolor</td>\n",
       "    </tr>\n",
       "    <tr>\n",
       "      <th>1</th>\n",
       "      <td>6.2</td>\n",
       "      <td>2.9</td>\n",
       "      <td>4.3</td>\n",
       "      <td>1.3</td>\n",
       "      <td>Iris-versicolor</td>\n",
       "    </tr>\n",
       "    <tr>\n",
       "      <th>2</th>\n",
       "      <td>5.8</td>\n",
       "      <td>2.7</td>\n",
       "      <td>3.9</td>\n",
       "      <td>1.2</td>\n",
       "      <td>Iris-versicolor</td>\n",
       "    </tr>\n",
       "    <tr>\n",
       "      <th>3</th>\n",
       "      <td>6.9</td>\n",
       "      <td>3.1</td>\n",
       "      <td>4.9</td>\n",
       "      <td>1.5</td>\n",
       "      <td>Iris-versicolor</td>\n",
       "    </tr>\n",
       "  </tbody>\n",
       "</table>\n",
       "</div>"
      ],
      "text/plain": [
       "   sepal_length  sepal_width  petal_length  petal_width          species\n",
       "0           5.0          3.0           1.6          0.2      Iris-setosa\n",
       "1           4.8          3.0           1.4          0.3      Iris-setosa\n",
       "2           5.5          3.5           1.3          0.2      Iris-setosa\n",
       "3           5.4          3.9           1.7          0.4      Iris-setosa\n",
       "0           5.6          2.9           3.6          1.3  Iris-versicolor\n",
       "1           6.2          2.9           4.3          1.3  Iris-versicolor\n",
       "2           5.8          2.7           3.9          1.2  Iris-versicolor\n",
       "3           6.9          3.1           4.9          1.5  Iris-versicolor"
      ]
     },
     "execution_count": 9,
     "metadata": {},
     "output_type": "execute_result"
    }
   ],
   "source": [
    "df1 = bz.odo(d.irisdb[d.irisdb['species'] == 'Iris-setosa'].sample(n=4), pd.DataFrame)\n",
    "df2 = bz.odo(d.irisdb[d.irisdb['species'] == 'Iris-versicolor'].sample(n=4), pd.DataFrame)\n",
    "\n",
    "pd.concat((df1, df2))"
   ]
  },
  {
   "cell_type": "code",
   "execution_count": null,
   "metadata": {
    "collapsed": true
   },
   "outputs": [],
   "source": []
  }
 ],
 "metadata": {
  "kernelspec": {
   "display_name": "Python 3",
   "language": "python",
   "name": "python3"
  },
  "language_info": {
   "codemirror_mode": {
    "name": "ipython",
    "version": 3
   },
   "file_extension": ".py",
   "mimetype": "text/x-python",
   "name": "python",
   "nbconvert_exporter": "python",
   "pygments_lexer": "ipython3",
   "version": "3.4.4"
  }
 },
 "nbformat": 4,
 "nbformat_minor": 0
}
