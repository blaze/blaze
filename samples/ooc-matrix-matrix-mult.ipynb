{
 "metadata": {
  "name": "ooc-matrix-matrix-mult"
 },
 "nbformat": 3,
 "nbformat_minor": 0,
 "worksheets": [
  {
   "cells": [
    {
     "cell_type": "markdown",
     "metadata": {},
     "source": [
      "Notebook showing how Blaze can compute a matrix-matrix multiplication on persistent storage (i.e. matrix sizes can exceed memory size)\n"
     ]
    },
    {
     "cell_type": "code",
     "collapsed": false,
     "input": [
      "import shutil, os, os.path\n",
      "from time import time\n",
      "import blaze as blz\n",
      "from blaze.algo.linalg import dot"
     ],
     "language": "python",
     "metadata": {},
     "outputs": []
    },
    {
     "cell_type": "code",
     "collapsed": false,
     "input": [
      "# The dimensions for the arrays\n",
      "# a.shape = (DIM1, DIM2); b.shape = (DIM2, DIM3); out.shape = (DIM1, DIM3)\n",
      "DIM1, DIM2, DIM3 = 1000, 1000, 2000"
     ],
     "language": "python",
     "metadata": {},
     "outputs": []
    },
    {
     "cell_type": "code",
     "collapsed": false,
     "input": [
      "# Remove pre-existent data directories\n",
      "for d in ('a_dir', 'b_dir', 'out_dir'):\n",
      "    if os.path.exists(d):\n",
      "        shutil.rmtree(d)"
     ],
     "language": "python",
     "metadata": {},
     "outputs": []
    },
    {
     "cell_type": "code",
     "collapsed": false,
     "input": [
      "# Create array 'a' in directory 'a_dir'\n",
      "%time a = blz.ones(blz.dshape('%d, %d, float64' % (DIM1, DIM2)), params=blz.params(storage='a_dir'))"
     ],
     "language": "python",
     "metadata": {},
     "outputs": []
    },
    {
     "cell_type": "code",
     "collapsed": false,
     "input": [
      "# Create array 'b' in directory 'b_dir'\n",
      "%time b = blz.ones(blz.dshape('%d, %d, float64' % (DIM2, DIM3)), params=blz.params(storage='b_dir'))"
     ],
     "language": "python",
     "metadata": {},
     "outputs": []
    },
    {
     "cell_type": "code",
     "collapsed": false,
     "input": [
      "# Do the dot product and put the result in 'out' (directory 'out_dir')\n",
      "%time out = dot(a, b, outname='out_dir')"
     ],
     "language": "python",
     "metadata": {},
     "outputs": []
    },
    {
     "cell_type": "code",
     "collapsed": false,
     "input": [
      "# Show the output\n",
      "print \"out:\", `out`"
     ],
     "language": "python",
     "metadata": {},
     "outputs": []
    },
    {
     "cell_type": "code",
     "collapsed": false,
     "input": [
      "# Function that shows sizes on disk\n",
      "dsize = lambda d: sum([os.path.getsize(os.path.join(d,f)) for f in os.listdir(d)])"
     ],
     "language": "python",
     "metadata": {},
     "outputs": []
    },
    {
     "cell_type": "code",
     "collapsed": false,
     "input": [
      "# Data sizes for operands and result\n",
      "[dsize(data) for data in ('a_dir/data', 'b_dir/data', 'out_dir/data')]"
     ],
     "language": "python",
     "metadata": {},
     "outputs": []
    },
    {
     "cell_type": "code",
     "collapsed": false,
     "input": [
      "# Function that shows equivalent sizes for NumPy\n",
      "nsize = lambda arr: arr.size*arr.itemsize"
     ],
     "language": "python",
     "metadata": {},
     "outputs": []
    },
    {
     "cell_type": "code",
     "collapsed": false,
     "input": [
      "# Data sizes for operands and result for NumPy\n",
      "[nsize(data) for data in (a[:], b[:], out[:])]"
     ],
     "language": "python",
     "metadata": {},
     "outputs": []
    },
    {
     "cell_type": "code",
     "collapsed": false,
     "input": [
      "# Compression ratios:\n",
      "[nsize(arr) / dsize(data) for data, arr in (('a_dir/data', a[:]), ('b_dir/data', b[:]), ('out_dir/data', out[:]))]"
     ],
     "language": "python",
     "metadata": {},
     "outputs": []
    },
    {
     "cell_type": "code",
     "collapsed": false,
     "input": [],
     "language": "python",
     "metadata": {},
     "outputs": []
    }
   ],
   "metadata": {}
  }
 ]
}