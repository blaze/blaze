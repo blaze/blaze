{
 "metadata": {
  "name": "finding_patterns"
 },
 "nbformat": 3,
 "nbformat_minor": 0,
 "worksheets": [
  {
   "cells": [
    {
     "cell_type": "heading",
     "level": 1,
     "metadata": {},
     "source": [
      "Finding patterns with Distance Time Warping"
     ]
    },
    {
     "cell_type": "raw",
     "metadata": {},
     "source": [
      "Demo for performing queries on large time series by using UCR's DTW ultra-efficient algorithm.\n",
      "\n",
      "The computation is performed with completely on-disk datasets.  After the run, the time series dataset is created in the `ts.blz` directory.\n"
     ]
    },
    {
     "cell_type": "code",
     "collapsed": false,
     "input": [
      "import os, shutil, math\n",
      "import blaze as blz\n",
      "from blaze.ts.ucr_dtw import ucr\n",
      "import numpy as np"
     ],
     "language": "python",
     "metadata": {},
     "outputs": [],
     "prompt_number": 13
    },
    {
     "cell_type": "code",
     "collapsed": false,
     "input": [
      "NROWS = int(1e6)\n",
      "CS = 128\n",
      "NPERIODS = NROWS // CS"
     ],
     "language": "python",
     "metadata": {},
     "outputs": [],
     "prompt_number": 14
    },
    {
     "cell_type": "code",
     "collapsed": false,
     "input": [
      "# Create a large time series dataset by appending chunks\n",
      "if os.path.exists('ts.blz'): shutil.rmtree('ts.blz')\n",
      "ts = blz.array([], 'x, float64', params=blz.params(storage='ts.blz'))\n",
      "for i in range(NPERIODS):\n",
      "    # Proceed to fill the empty array in chunks\n",
      "    x = np.linspace(i, i+1, CS)*math.pi\n",
      "    ts.append(x*np.sin(x))\n",
      "ts.commit()"
     ],
     "language": "python",
     "metadata": {},
     "outputs": [],
     "prompt_number": 15
    },
    {
     "cell_type": "heading",
     "level": 2,
     "metadata": {},
     "source": [
      "An exact dataset to query"
     ]
    },
    {
     "cell_type": "code",
     "collapsed": false,
     "input": [
      "# Create a first dataset to query\n",
      "xq = np.linspace(3, 4, CS)*math.pi\n",
      "query = xq*np.sin(xq)"
     ],
     "language": "python",
     "metadata": {},
     "outputs": [],
     "prompt_number": 16
    },
    {
     "cell_type": "code",
     "collapsed": false,
     "input": [
      "# Do the search for the exact pattern\n",
      "%time loc, dist = ucr.dtw(ts, query, 0.1, query.size, verbose=True)\n",
      "print \"Location : \", loc\n",
      "print \"Distance : \", dist\n",
      "print \"Data Scanned : \", ts.size"
     ],
     "language": "python",
     "metadata": {},
     "outputs": [
      {
       "output_type": "stream",
       "stream": "stderr",
       "text": [
        ".."
       ]
      },
      {
       "output_type": "stream",
       "stream": "stdout",
       "text": [
        "\n",
        "\n",
        "Pruned by LB_Kim    :  99.97%\n",
        "Pruned by LB_Keogh  :   0.00%\n",
        "Pruned by LB_Keogh2 :   0.00%\n",
        "DTW Calculation     :   0.03%\n",
        "CPU times: user 0.25 s, sys: 0.05 s, total: 0.30 s\n",
        "Wall time: 0.32 s\n",
        "Location :  384\n",
        "Distance :  3.10906017636e-15\n",
        "Data Scanned :  999936\n"
       ]
      }
     ],
     "prompt_number": 17
    },
    {
     "cell_type": "code",
     "collapsed": false,
     "input": [
      "# Plot the results\n",
      "win = 500\n",
      "sl = slice(max(0, loc-win), min(ts.size, loc+query.size+win))\n",
      "x = np.arange(sl.start, sl.stop)\n",
      "slp = slice(loc, loc+query.size)\n",
      "xp = np.arange(slp.start, slp.stop)\n",
      "plot(x, ts[sl], 'b-', xp, query[:], 'r+')\n"
     ],
     "language": "python",
     "metadata": {},
     "outputs": [
      {
       "output_type": "pyout",
       "prompt_number": 18,
       "text": [
        "[<matplotlib.lines.Line2D at 0x104ee12d0>,\n",
        " <matplotlib.lines.Line2D at 0x104ee1510>]"
       ]
      },
      {
       "output_type": "display_data",
       "png": "[encoded data removed]"
      }
     ],
     "prompt_number": 18
    },
    {
     "cell_type": "heading",
     "level": 2,
     "metadata": {},
     "source": [
      "Querying with a noise dataset"
     ]
    },
    {
     "cell_type": "code",
     "collapsed": false,
     "input": [
      "# Create a second dataset to query (introducing noise)\n",
      "n = 0  # no displacement\n",
      "noise = np.random.randn(query.size)*.1  # introduce some noise\n",
      "query2 = xq*np.sin(xq)+noise+n"
     ],
     "language": "python",
     "metadata": {},
     "outputs": [],
     "prompt_number": 19
    },
    {
     "cell_type": "code",
     "collapsed": false,
     "input": [
      "# Do the search for the noisy pattern\n",
      "%time loc, dist = ucr.dtw(ts, query2, 0.1, query2.size, verbose=True)\n",
      "print \"Location : \", loc\n",
      "print \"Distance : \", dist\n",
      "print \"Data Scanned : \", ts.size"
     ],
     "language": "python",
     "metadata": {},
     "outputs": [
      {
       "output_type": "stream",
       "stream": "stderr",
       "text": [
        ".."
       ]
      },
      {
       "output_type": "stream",
       "stream": "stdout",
       "text": [
        "\n",
        "\n",
        "Pruned by LB_Kim    :  98.02%\n",
        "Pruned by LB_Keogh  :   0.00%\n",
        "Pruned by LB_Keogh2 :   0.00%\n",
        "DTW Calculation     :   1.98%\n",
        "CPU times: user 0.96 s, sys: 0.05 s, total: 1.01 s\n",
        "Wall time: 1.14 s\n",
        "Location :  384\n",
        "Distance :  0.306549664702\n",
        "Data Scanned :  999936\n"
       ]
      }
     ],
     "prompt_number": 20
    },
    {
     "cell_type": "code",
     "collapsed": false,
     "input": [
      "# Plot the results\n",
      "win = 500\n",
      "sl = slice(max(0, loc-win), min(ts.size, loc+query2.size+win))\n",
      "x = np.arange(sl.start, sl.stop)\n",
      "slp = slice(loc, loc+query2.size)\n",
      "xp = np.arange(slp.start, slp.stop)\n",
      "plot(x, ts[sl], 'b-', xp, query2[:], 'r+')\n"
     ],
     "language": "python",
     "metadata": {},
     "outputs": [
      {
       "output_type": "pyout",
       "prompt_number": 21,
       "text": [
        "[<matplotlib.lines.Line2D at 0x10577b610>,\n",
        " <matplotlib.lines.Line2D at 0x10577b850>]"
       ]
      },
      {
       "output_type": "display_data",
       "png": "[encoded data removed]"
      }
     ],
     "prompt_number": 21
    },
    {
     "cell_type": "heading",
     "level": 2,
     "metadata": {},
     "source": [
      "Third dataset (noise + displacement)"
     ]
    },
    {
     "cell_type": "code",
     "collapsed": false,
     "input": [
      "# Create a third dataset to query (noise + displacement)\n",
      "n = 5  # introduce some displacement\n",
      "noise = np.random.randn(query.size)*.1  # introduce some noise\n",
      "query3 = xq*np.sin(xq)+noise+n"
     ],
     "language": "python",
     "metadata": {},
     "outputs": [],
     "prompt_number": 22
    },
    {
     "cell_type": "code",
     "collapsed": false,
     "input": [
      "# Do the search for the noisy pattern\n",
      "%time loc, dist = ucr.dtw(ts, query3, 0.1, query3.size, verbose=True)\n",
      "print \"Location : \", loc\n",
      "print \"Distance : \", dist\n",
      "print \"Data Scanned : \", ts.size\n"
     ],
     "language": "python",
     "metadata": {},
     "outputs": [
      {
       "output_type": "stream",
       "stream": "stderr",
       "text": [
        ".."
       ]
      },
      {
       "output_type": "stream",
       "stream": "stdout",
       "text": [
        "\n",
        "\n",
        "Pruned by LB_Kim    :  98.02%\n",
        "Pruned by LB_Keogh  :   0.00%\n",
        "Pruned by LB_Keogh2 :   0.00%\n",
        "DTW Calculation     :   1.98%\n",
        "CPU times: user 0.84 s, sys: 0.05 s, total: 0.89 s\n",
        "Wall time: 1.00 s\n",
        "Location :  384\n",
        "Distance :  0.266309967361\n",
        "Data Scanned :  999936\n"
       ]
      }
     ],
     "prompt_number": 23
    },
    {
     "cell_type": "code",
     "collapsed": false,
     "input": [
      "# Plot the results\n",
      "win = 500\n",
      "sl = slice(max(0, loc-win), min(ts.size, loc+query3.size+win))\n",
      "x = np.arange(sl.start, sl.stop)\n",
      "slp = slice(loc, loc+query3.size)\n",
      "xp = np.arange(slp.start, slp.stop)\n",
      "plot(x, ts[sl], 'b-', xp, query3[:], 'r+')\n"
     ],
     "language": "python",
     "metadata": {},
     "outputs": [
      {
       "output_type": "pyout",
       "prompt_number": 24,
       "text": [
        "[<matplotlib.lines.Line2D at 0x106166950>,\n",
        " <matplotlib.lines.Line2D at 0x106166b90>]"
       ]
      },
      {
       "output_type": "display_data",
       "png": "[encoded data removed]"
      }
     ],
     "prompt_number": 24
    },
    {
     "cell_type": "code",
     "collapsed": false,
     "input": [],
     "language": "python",
     "metadata": {},
     "outputs": []
    }
   ],
   "metadata": {}
  }
 ]
}